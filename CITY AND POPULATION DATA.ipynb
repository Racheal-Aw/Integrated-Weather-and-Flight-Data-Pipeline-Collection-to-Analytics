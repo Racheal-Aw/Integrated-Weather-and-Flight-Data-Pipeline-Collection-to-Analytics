{
 "cells": [
  {
   "cell_type": "markdown",
   "id": "65f84829",
   "metadata": {},
   "source": [
    "CREATE FUNCTION FOR CITY LATITUDE AND LONGITUDE"
   ]
  },
  {
   "cell_type": "code",
   "execution_count": 2,
   "id": "a2be11b4",
   "metadata": {},
   "outputs": [],
   "source": [
    "import pandas as pd\n",
    "import requests\n",
    "from bs4 import BeautifulSoup\n",
    "from lat_lon_parser import parse    # for decimal coordinates\n",
    "\n",
    "def get_city_data(cities):\n",
    "\n",
    "    city_data = []\n",
    "\n",
    "    for city in cities:\n",
    "        url= f\"https://en.wikipedia.org/wiki/{city}\"\n",
    "        response = requests.get(url)\n",
    "        city_soup = BeautifulSoup(response.content, 'html.parser')\n",
    "\n",
    "        try:\n",
    "            country = city_soup.find(class_='infobox-data').get_text()\n",
    "            city_longitude = city_soup.find(class_='longitude').get_text()\n",
    "            city_latitude = city_soup.find(class_='latitude').get_text()\n",
    "\n",
    "        except AttributeError:\n",
    "            country, latitude, longitude = None, None, None  # Handle missing values\n",
    "\n",
    "        # extract data\n",
    "        city_data.append({\n",
    "            \"city_name\" : city,\n",
    "            \"Country\" : country,\n",
    "            \"Latitude\" : parse(city_latitude),\n",
    "            \"Longitude\" : parse(city_longitude)\n",
    "        })\n",
    "\n",
    "    return pd.DataFrame(city_data)"
   ]
  },
  {
   "cell_type": "markdown",
   "id": "572d26f1",
   "metadata": {},
   "source": [
    "CALL FUNCTION"
   ]
  },
  {
   "cell_type": "code",
   "execution_count": 2,
   "id": "ed486f65",
   "metadata": {},
   "outputs": [
    {
     "data": {
      "text/html": [
       "<div>\n",
       "<style scoped>\n",
       "    .dataframe tbody tr th:only-of-type {\n",
       "        vertical-align: middle;\n",
       "    }\n",
       "\n",
       "    .dataframe tbody tr th {\n",
       "        vertical-align: top;\n",
       "    }\n",
       "\n",
       "    .dataframe thead th {\n",
       "        text-align: right;\n",
       "    }\n",
       "</style>\n",
       "<table border=\"1\" class=\"dataframe\">\n",
       "  <thead>\n",
       "    <tr style=\"text-align: right;\">\n",
       "      <th></th>\n",
       "      <th>city_name</th>\n",
       "      <th>Country</th>\n",
       "      <th>Latitude</th>\n",
       "      <th>Longitude</th>\n",
       "    </tr>\n",
       "  </thead>\n",
       "  <tbody>\n",
       "    <tr>\n",
       "      <th>0</th>\n",
       "      <td>Berlin</td>\n",
       "      <td>Germany</td>\n",
       "      <td>52.5200</td>\n",
       "      <td>13.405</td>\n",
       "    </tr>\n",
       "    <tr>\n",
       "      <th>1</th>\n",
       "      <td>Hamburg</td>\n",
       "      <td>Germany</td>\n",
       "      <td>53.5500</td>\n",
       "      <td>10.000</td>\n",
       "    </tr>\n",
       "    <tr>\n",
       "      <th>2</th>\n",
       "      <td>Munich</td>\n",
       "      <td>Germany</td>\n",
       "      <td>48.1375</td>\n",
       "      <td>11.575</td>\n",
       "    </tr>\n",
       "  </tbody>\n",
       "</table>\n",
       "</div>"
      ],
      "text/plain": [
       "  city_name  Country  Latitude  Longitude\n",
       "0    Berlin  Germany   52.5200     13.405\n",
       "1   Hamburg  Germany   53.5500     10.000\n",
       "2    Munich  Germany   48.1375     11.575"
      ]
     },
     "execution_count": 2,
     "metadata": {},
     "output_type": "execute_result"
    }
   ],
   "source": [
    "cities = [\"Berlin\", \"Hamburg\", \"Munich\"]\n",
    "city_df = get_city_data(cities)\n",
    "city_df"
   ]
  },
  {
   "cell_type": "markdown",
   "id": "e2edf9e1",
   "metadata": {},
   "source": [
    "CREATE FUNCTION FOR POPULATION DATA"
   ]
  },
  {
   "cell_type": "code",
   "execution_count": 3,
   "id": "91ad5ffc",
   "metadata": {},
   "outputs": [],
   "source": [
    "import pandas as pd\n",
    "import requests\n",
    "from bs4 import BeautifulSoup\n",
    "from datetime import datetime # to get today's date\n",
    "\n",
    "def Get_Population_Data(cities):\n",
    "\n",
    "    population_data = []\n",
    "    # make a loop\n",
    "    for city in cities:\n",
    "        url = f\"https://en.wikipedia.org/wiki/{city}\"\n",
    "        response = requests.get(url)\n",
    "        Pop_soup = BeautifulSoup(response.content, 'html.parser')\n",
    "\n",
    "        # extract the data\n",
    "        try:\n",
    "            city_pop = Pop_soup.find(string='Population').find_next('td').get_text(strip=True)\n",
    "            city_pop_clean = int(city_pop.replace(\",\", \"\"))\n",
    "            today = datetime.today().strftime(\"%d.%m.%Y\")\n",
    "\n",
    "        except AttributeError:\n",
    "            city_pop_clean = None, None, None  # Handle missing values\n",
    "\n",
    "        # values for each city\n",
    "        population_data.append({\n",
    "            \"city_name\" : city,\n",
    "            \"Population\": city_pop_clean,\n",
    "            \"Population_Timestamp\":today\n",
    "        })\n",
    "\n",
    "    return pd.DataFrame(population_data)"
   ]
  },
  {
   "cell_type": "markdown",
   "id": "b8e3e4de",
   "metadata": {},
   "source": [
    "CALL FUNCTION"
   ]
  },
  {
   "cell_type": "code",
   "execution_count": 4,
   "id": "364b2509",
   "metadata": {},
   "outputs": [
    {
     "data": {
      "text/html": [
       "<div>\n",
       "<style scoped>\n",
       "    .dataframe tbody tr th:only-of-type {\n",
       "        vertical-align: middle;\n",
       "    }\n",
       "\n",
       "    .dataframe tbody tr th {\n",
       "        vertical-align: top;\n",
       "    }\n",
       "\n",
       "    .dataframe thead th {\n",
       "        text-align: right;\n",
       "    }\n",
       "</style>\n",
       "<table border=\"1\" class=\"dataframe\">\n",
       "  <thead>\n",
       "    <tr style=\"text-align: right;\">\n",
       "      <th></th>\n",
       "      <th>city_name</th>\n",
       "      <th>Population</th>\n",
       "      <th>Population_Timestamp</th>\n",
       "    </tr>\n",
       "  </thead>\n",
       "  <tbody>\n",
       "    <tr>\n",
       "      <th>0</th>\n",
       "      <td>Berlin</td>\n",
       "      <td>3596999</td>\n",
       "      <td>23.05.2025</td>\n",
       "    </tr>\n",
       "    <tr>\n",
       "      <th>1</th>\n",
       "      <td>Hamburg</td>\n",
       "      <td>1964021</td>\n",
       "      <td>23.05.2025</td>\n",
       "    </tr>\n",
       "    <tr>\n",
       "      <th>2</th>\n",
       "      <td>Munich</td>\n",
       "      <td>1510378</td>\n",
       "      <td>23.05.2025</td>\n",
       "    </tr>\n",
       "  </tbody>\n",
       "</table>\n",
       "</div>"
      ],
      "text/plain": [
       "  city_name  Population Population_Timestamp\n",
       "0    Berlin     3596999           23.05.2025\n",
       "1   Hamburg     1964021           23.05.2025\n",
       "2    Munich     1510378           23.05.2025"
      ]
     },
     "execution_count": 4,
     "metadata": {},
     "output_type": "execute_result"
    }
   ],
   "source": [
    "cities = [\"Berlin\", \"Hamburg\", \"Munich\"]\n",
    "population = Get_Population_Data(cities)\n",
    "population"
   ]
  },
  {
   "cell_type": "markdown",
   "id": "8a031759",
   "metadata": {},
   "source": [
    "ESTABLISH CONNECTION WITH SQL"
   ]
  },
  {
   "cell_type": "code",
   "execution_count": 4,
   "id": "6ef62d3b",
   "metadata": {},
   "outputs": [],
   "source": [
    "import pandas as pd\n",
    "from datetime import datetime, timedelta\n",
    "import requests\n",
    "from pytz import timezone\n",
    "from dotenv import load_dotenv\n",
    "import os\n",
    "load_dotenv()  # Load .env into environment\n",
    "\n",
    "schema = \"city_workshop\"\n",
    "host = \"127.0.0.1\"\n",
    "user = \"root\"\n",
    "password = os.getenv(\"MYSQL_PASSWORD\")\n",
    "port = 3306\n",
    "\n",
    "connection_string = f'mysql+pymysql://{user}:{password}@{host}:{port}/{schema}'"
   ]
  },
  {
   "cell_type": "markdown",
   "id": "618173af",
   "metadata": {},
   "source": [
    "SEND CITY DATA TO SQL DATA BASE; FIRST CREATE TABLE AND ENSURE ALL THE TABLE NAME ARE IN THE SAME FORMAT"
   ]
  },
  {
   "cell_type": "markdown",
   "id": "930c7d1f",
   "metadata": {},
   "source": [
    "city_df.to_sql('city',\n",
    "                  if_exists='append',\n",
    "                  con=connection_string,\n",
    "                  index=False)"
   ]
  },
  {
   "cell_type": "markdown",
   "id": "8e04bbb8",
   "metadata": {},
   "source": [
    "RETRIEVE DATA FROM SQL"
   ]
  },
  {
   "cell_type": "code",
   "execution_count": 6,
   "id": "2d3fef34",
   "metadata": {},
   "outputs": [
    {
     "data": {
      "text/html": [
       "<div>\n",
       "<style scoped>\n",
       "    .dataframe tbody tr th:only-of-type {\n",
       "        vertical-align: middle;\n",
       "    }\n",
       "\n",
       "    .dataframe tbody tr th {\n",
       "        vertical-align: top;\n",
       "    }\n",
       "\n",
       "    .dataframe thead th {\n",
       "        text-align: right;\n",
       "    }\n",
       "</style>\n",
       "<table border=\"1\" class=\"dataframe\">\n",
       "  <thead>\n",
       "    <tr style=\"text-align: right;\">\n",
       "      <th></th>\n",
       "      <th>City_id</th>\n",
       "      <th>city_name</th>\n",
       "      <th>Country</th>\n",
       "      <th>Latitude</th>\n",
       "      <th>Longitude</th>\n",
       "    </tr>\n",
       "  </thead>\n",
       "  <tbody>\n",
       "    <tr>\n",
       "      <th>0</th>\n",
       "      <td>1</td>\n",
       "      <td>Berlin</td>\n",
       "      <td>Germany</td>\n",
       "      <td>52.5200</td>\n",
       "      <td>13.405</td>\n",
       "    </tr>\n",
       "    <tr>\n",
       "      <th>1</th>\n",
       "      <td>2</td>\n",
       "      <td>Hamburg</td>\n",
       "      <td>Germany</td>\n",
       "      <td>53.5500</td>\n",
       "      <td>10.000</td>\n",
       "    </tr>\n",
       "    <tr>\n",
       "      <th>2</th>\n",
       "      <td>3</td>\n",
       "      <td>Munich</td>\n",
       "      <td>Germany</td>\n",
       "      <td>48.1375</td>\n",
       "      <td>11.575</td>\n",
       "    </tr>\n",
       "  </tbody>\n",
       "</table>\n",
       "</div>"
      ],
      "text/plain": [
       "   City_id city_name  Country  Latitude  Longitude\n",
       "0        1    Berlin  Germany   52.5200     13.405\n",
       "1        2   Hamburg  Germany   53.5500     10.000\n",
       "2        3    Munich  Germany   48.1375     11.575"
      ]
     },
     "execution_count": 6,
     "metadata": {},
     "output_type": "execute_result"
    }
   ],
   "source": [
    "city_df_from_sql = pd.read_sql(\"city\", con=connection_string)\n",
    "city_df_from_sql"
   ]
  },
  {
   "cell_type": "markdown",
   "id": "75d809d2",
   "metadata": {},
   "source": [
    "PREPARING TO SEND POPULATION DATA TO SQL\n",
    "FIRST MERGE CITY AND POPULATION"
   ]
  },
  {
   "cell_type": "code",
   "execution_count": 7,
   "id": "c712fe7b",
   "metadata": {},
   "outputs": [
    {
     "data": {
      "text/html": [
       "<div>\n",
       "<style scoped>\n",
       "    .dataframe tbody tr th:only-of-type {\n",
       "        vertical-align: middle;\n",
       "    }\n",
       "\n",
       "    .dataframe tbody tr th {\n",
       "        vertical-align: top;\n",
       "    }\n",
       "\n",
       "    .dataframe thead th {\n",
       "        text-align: right;\n",
       "    }\n",
       "</style>\n",
       "<table border=\"1\" class=\"dataframe\">\n",
       "  <thead>\n",
       "    <tr style=\"text-align: right;\">\n",
       "      <th></th>\n",
       "      <th>city_name</th>\n",
       "      <th>Population</th>\n",
       "      <th>Population_Timestamp</th>\n",
       "      <th>City_id</th>\n",
       "      <th>Country</th>\n",
       "      <th>Latitude</th>\n",
       "      <th>Longitude</th>\n",
       "    </tr>\n",
       "  </thead>\n",
       "  <tbody>\n",
       "    <tr>\n",
       "      <th>0</th>\n",
       "      <td>Berlin</td>\n",
       "      <td>3596999</td>\n",
       "      <td>23.05.2025</td>\n",
       "      <td>1</td>\n",
       "      <td>Germany</td>\n",
       "      <td>52.5200</td>\n",
       "      <td>13.405</td>\n",
       "    </tr>\n",
       "    <tr>\n",
       "      <th>1</th>\n",
       "      <td>Hamburg</td>\n",
       "      <td>1964021</td>\n",
       "      <td>23.05.2025</td>\n",
       "      <td>2</td>\n",
       "      <td>Germany</td>\n",
       "      <td>53.5500</td>\n",
       "      <td>10.000</td>\n",
       "    </tr>\n",
       "    <tr>\n",
       "      <th>2</th>\n",
       "      <td>Munich</td>\n",
       "      <td>1510378</td>\n",
       "      <td>23.05.2025</td>\n",
       "      <td>3</td>\n",
       "      <td>Germany</td>\n",
       "      <td>48.1375</td>\n",
       "      <td>11.575</td>\n",
       "    </tr>\n",
       "  </tbody>\n",
       "</table>\n",
       "</div>"
      ],
      "text/plain": [
       "  city_name  Population Population_Timestamp  City_id  Country  Latitude  \\\n",
       "0    Berlin     3596999           23.05.2025        1  Germany   52.5200   \n",
       "1   Hamburg     1964021           23.05.2025        2  Germany   53.5500   \n",
       "2    Munich     1510378           23.05.2025        3  Germany   48.1375   \n",
       "\n",
       "   Longitude  \n",
       "0     13.405  \n",
       "1     10.000  \n",
       "2     11.575  "
      ]
     },
     "execution_count": 7,
     "metadata": {},
     "output_type": "execute_result"
    }
   ],
   "source": [
    "population_df_raw = population.merge(city_df_from_sql, on =\"city_name\", how= \"left\")\n",
    "population_df_raw "
   ]
  },
  {
   "cell_type": "markdown",
   "id": "8c7d1ef7",
   "metadata": {},
   "source": [
    "SELECT APPROPRAITE COLUMN FOR YOUR POPULATION TABLE"
   ]
  },
  {
   "cell_type": "code",
   "execution_count": 8,
   "id": "90ecfecf",
   "metadata": {},
   "outputs": [
    {
     "data": {
      "text/html": [
       "<div>\n",
       "<style scoped>\n",
       "    .dataframe tbody tr th:only-of-type {\n",
       "        vertical-align: middle;\n",
       "    }\n",
       "\n",
       "    .dataframe tbody tr th {\n",
       "        vertical-align: top;\n",
       "    }\n",
       "\n",
       "    .dataframe thead th {\n",
       "        text-align: right;\n",
       "    }\n",
       "</style>\n",
       "<table border=\"1\" class=\"dataframe\">\n",
       "  <thead>\n",
       "    <tr style=\"text-align: right;\">\n",
       "      <th></th>\n",
       "      <th>Population</th>\n",
       "      <th>Population_Timestamp</th>\n",
       "      <th>City_id</th>\n",
       "    </tr>\n",
       "  </thead>\n",
       "  <tbody>\n",
       "    <tr>\n",
       "      <th>0</th>\n",
       "      <td>3596999</td>\n",
       "      <td>23.05.2025</td>\n",
       "      <td>1</td>\n",
       "    </tr>\n",
       "    <tr>\n",
       "      <th>1</th>\n",
       "      <td>1964021</td>\n",
       "      <td>23.05.2025</td>\n",
       "      <td>2</td>\n",
       "    </tr>\n",
       "    <tr>\n",
       "      <th>2</th>\n",
       "      <td>1510378</td>\n",
       "      <td>23.05.2025</td>\n",
       "      <td>3</td>\n",
       "    </tr>\n",
       "  </tbody>\n",
       "</table>\n",
       "</div>"
      ],
      "text/plain": [
       "   Population Population_Timestamp  City_id\n",
       "0     3596999           23.05.2025        1\n",
       "1     1964021           23.05.2025        2\n",
       "2     1510378           23.05.2025        3"
      ]
     },
     "execution_count": 8,
     "metadata": {},
     "output_type": "execute_result"
    }
   ],
   "source": [
    "population_df =population_df_raw[[\"Population\", \"Population_Timestamp\", \"City_id\"]]\n",
    "population_df"
   ]
  },
  {
   "cell_type": "markdown",
   "id": "4ea0bc91",
   "metadata": {},
   "source": [
    "SEND POPULATION DATA TO SQL DATA BASE; FIRST CREATE TABLE AND ENSURE ALL THE TABLE NAME ARE IN THE SAME FORMAT"
   ]
  },
  {
   "cell_type": "code",
   "execution_count": null,
   "id": "f8784913",
   "metadata": {},
   "outputs": [],
   "source": [
    "#population_df.to_sql('population',\n",
    "                  if_exists='append',\n",
    "                  con=connection_string,\n",
    "                  index=False)"
   ]
  },
  {
   "cell_type": "markdown",
   "id": "2258b681",
   "metadata": {},
   "source": [
    "RETRIEVE POPULATION DATA"
   ]
  },
  {
   "cell_type": "code",
   "execution_count": 5,
   "id": "f5ab4365",
   "metadata": {},
   "outputs": [
    {
     "data": {
      "text/html": [
       "<div>\n",
       "<style scoped>\n",
       "    .dataframe tbody tr th:only-of-type {\n",
       "        vertical-align: middle;\n",
       "    }\n",
       "\n",
       "    .dataframe tbody tr th {\n",
       "        vertical-align: top;\n",
       "    }\n",
       "\n",
       "    .dataframe thead th {\n",
       "        text-align: right;\n",
       "    }\n",
       "</style>\n",
       "<table border=\"1\" class=\"dataframe\">\n",
       "  <thead>\n",
       "    <tr style=\"text-align: right;\">\n",
       "      <th></th>\n",
       "      <th>Population</th>\n",
       "      <th>Population_Timestamp</th>\n",
       "      <th>city_id</th>\n",
       "    </tr>\n",
       "  </thead>\n",
       "  <tbody>\n",
       "    <tr>\n",
       "      <th>0</th>\n",
       "      <td>3596999</td>\n",
       "      <td>21.05.2025</td>\n",
       "      <td>1</td>\n",
       "    </tr>\n",
       "    <tr>\n",
       "      <th>1</th>\n",
       "      <td>1964021</td>\n",
       "      <td>21.05.2025</td>\n",
       "      <td>2</td>\n",
       "    </tr>\n",
       "    <tr>\n",
       "      <th>2</th>\n",
       "      <td>1510378</td>\n",
       "      <td>21.05.2025</td>\n",
       "      <td>3</td>\n",
       "    </tr>\n",
       "  </tbody>\n",
       "</table>\n",
       "</div>"
      ],
      "text/plain": [
       "   Population Population_Timestamp  city_id\n",
       "0     3596999           21.05.2025        1\n",
       "1     1964021           21.05.2025        2\n",
       "2     1510378           21.05.2025        3"
      ]
     },
     "execution_count": 5,
     "metadata": {},
     "output_type": "execute_result"
    }
   ],
   "source": [
    "population_df_from_sql = pd.read_sql(\"population\", con=connection_string)\n",
    "population_df_from_sql"
   ]
  }
 ],
 "metadata": {
  "kernelspec": {
   "display_name": "base",
   "language": "python",
   "name": "python3"
  },
  "language_info": {
   "codemirror_mode": {
    "name": "ipython",
    "version": 3
   },
   "file_extension": ".py",
   "mimetype": "text/x-python",
   "name": "python",
   "nbconvert_exporter": "python",
   "pygments_lexer": "ipython3",
   "version": "3.12.7"
  }
 },
 "nbformat": 4,
 "nbformat_minor": 5
}
