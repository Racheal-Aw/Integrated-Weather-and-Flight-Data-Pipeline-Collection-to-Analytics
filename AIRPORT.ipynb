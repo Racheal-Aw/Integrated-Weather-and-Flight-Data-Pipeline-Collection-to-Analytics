{
 "cells": [
  {
   "cell_type": "markdown",
   "id": "7c37923c",
   "metadata": {},
   "source": [
    "READ CITY FROM CREATED DATABASE"
   ]
  },
  {
   "cell_type": "code",
   "execution_count": 12,
   "id": "9b5e5bbb",
   "metadata": {},
   "outputs": [],
   "source": [
    "import pandas as pd\n",
    "import requests\n",
    "from dotenv import load_dotenv\n",
    "import os\n",
    "load_dotenv() # Load .env into environment\n",
    "\n",
    "schema = \"city_workshop\"\n",
    "host = \"127.0.0.1\"\n",
    "user = \"root\"\n",
    "password = os.getenv(\"MYSQL_PASSWORD\")\n",
    "port = 3306\n",
    "api_key = os.getenv(\"AEROBOX_API_KEY\")\n",
    "\n",
    "\n",
    "connection_string = f'mysql+pymysql://{user}:{password}@{host}:{port}/{schema}'\n",
    "# import your password-file if you have one\n",
    "#from passwords import lianes_sql_key, aerodata_API_key"
   ]
  },
  {
   "cell_type": "markdown",
   "id": "a601e7b8",
   "metadata": {},
   "source": [
    "CREATE A FUCNCTION TO READ CITY"
   ]
  },
  {
   "cell_type": "code",
   "execution_count": 4,
   "id": "f0f8f5c5",
   "metadata": {},
   "outputs": [],
   "source": [
    "def get_cities(connection_string):\n",
    "     return pd.read_sql(\"city\", con=connection_string)\n"
   ]
  },
  {
   "cell_type": "code",
   "execution_count": 5,
   "id": "25859fa4",
   "metadata": {},
   "outputs": [
    {
     "data": {
      "text/html": [
       "<div>\n",
       "<style scoped>\n",
       "    .dataframe tbody tr th:only-of-type {\n",
       "        vertical-align: middle;\n",
       "    }\n",
       "\n",
       "    .dataframe tbody tr th {\n",
       "        vertical-align: top;\n",
       "    }\n",
       "\n",
       "    .dataframe thead th {\n",
       "        text-align: right;\n",
       "    }\n",
       "</style>\n",
       "<table border=\"1\" class=\"dataframe\">\n",
       "  <thead>\n",
       "    <tr style=\"text-align: right;\">\n",
       "      <th></th>\n",
       "      <th>City_id</th>\n",
       "      <th>city_name</th>\n",
       "      <th>Country</th>\n",
       "      <th>Latitude</th>\n",
       "      <th>Longitude</th>\n",
       "    </tr>\n",
       "  </thead>\n",
       "  <tbody>\n",
       "    <tr>\n",
       "      <th>0</th>\n",
       "      <td>1</td>\n",
       "      <td>Berlin</td>\n",
       "      <td>Germany</td>\n",
       "      <td>52.5200</td>\n",
       "      <td>13.405</td>\n",
       "    </tr>\n",
       "    <tr>\n",
       "      <th>1</th>\n",
       "      <td>2</td>\n",
       "      <td>Hamburg</td>\n",
       "      <td>Germany</td>\n",
       "      <td>53.5500</td>\n",
       "      <td>10.000</td>\n",
       "    </tr>\n",
       "    <tr>\n",
       "      <th>2</th>\n",
       "      <td>3</td>\n",
       "      <td>Munich</td>\n",
       "      <td>Germany</td>\n",
       "      <td>48.1375</td>\n",
       "      <td>11.575</td>\n",
       "    </tr>\n",
       "  </tbody>\n",
       "</table>\n",
       "</div>"
      ],
      "text/plain": [
       "   City_id city_name  Country  Latitude  Longitude\n",
       "0        1    Berlin  Germany   52.5200     13.405\n",
       "1        2   Hamburg  Germany   53.5500     10.000\n",
       "2        3    Munich  Germany   48.1375     11.575"
      ]
     },
     "execution_count": 5,
     "metadata": {},
     "output_type": "execute_result"
    }
   ],
   "source": [
    "pd.read_sql(\"city\", con=connection_string)"
   ]
  },
  {
   "cell_type": "markdown",
   "id": "61616b4a",
   "metadata": {},
   "source": [
    "READ THE CITY DF TO GET LATITUDE AND LONGITUDE FOR THE API AIRPORT CALL"
   ]
  },
  {
   "cell_type": "code",
   "execution_count": 13,
   "id": "1d83c864",
   "metadata": {},
   "outputs": [
    {
     "data": {
      "text/html": [
       "<div>\n",
       "<style scoped>\n",
       "    .dataframe tbody tr th:only-of-type {\n",
       "        vertical-align: middle;\n",
       "    }\n",
       "\n",
       "    .dataframe tbody tr th {\n",
       "        vertical-align: top;\n",
       "    }\n",
       "\n",
       "    .dataframe thead th {\n",
       "        text-align: right;\n",
       "    }\n",
       "</style>\n",
       "<table border=\"1\" class=\"dataframe\">\n",
       "  <thead>\n",
       "    <tr style=\"text-align: right;\">\n",
       "      <th></th>\n",
       "      <th>City_id</th>\n",
       "      <th>city_name</th>\n",
       "      <th>Country</th>\n",
       "      <th>Latitude</th>\n",
       "      <th>Longitude</th>\n",
       "    </tr>\n",
       "  </thead>\n",
       "  <tbody>\n",
       "    <tr>\n",
       "      <th>0</th>\n",
       "      <td>1</td>\n",
       "      <td>Berlin</td>\n",
       "      <td>Germany</td>\n",
       "      <td>52.5200</td>\n",
       "      <td>13.405</td>\n",
       "    </tr>\n",
       "    <tr>\n",
       "      <th>1</th>\n",
       "      <td>2</td>\n",
       "      <td>Hamburg</td>\n",
       "      <td>Germany</td>\n",
       "      <td>53.5500</td>\n",
       "      <td>10.000</td>\n",
       "    </tr>\n",
       "    <tr>\n",
       "      <th>2</th>\n",
       "      <td>3</td>\n",
       "      <td>Munich</td>\n",
       "      <td>Germany</td>\n",
       "      <td>48.1375</td>\n",
       "      <td>11.575</td>\n",
       "    </tr>\n",
       "  </tbody>\n",
       "</table>\n",
       "</div>"
      ],
      "text/plain": [
       "   City_id city_name  Country  Latitude  Longitude\n",
       "0        1    Berlin  Germany   52.5200     13.405\n",
       "1        2   Hamburg  Germany   53.5500     10.000\n",
       "2        3    Munich  Germany   48.1375     11.575"
      ]
     },
     "execution_count": 13,
     "metadata": {},
     "output_type": "execute_result"
    }
   ],
   "source": [
    "cities_df = get_cities(connection_string)\n",
    "cities_df    "
   ]
  },
  {
   "cell_type": "markdown",
   "id": "cd8b6cfc",
   "metadata": {},
   "source": [
    "MAKE A FUNCTION CALL THE API"
   ]
  },
  {
   "cell_type": "code",
   "execution_count": 14,
   "id": "49ca30d2",
   "metadata": {},
   "outputs": [],
   "source": [
    "\n",
    "def icao_airport_codes(cities_df):\n",
    "    icao_codes =  []\n",
    "    city_id = []\n",
    "    airport_name = []\n",
    "\n",
    "    cities_df = pd.read_sql(\"city\", con=connection_string)\n",
    "\n",
    "    for index, row in cities_df.iterrows():\n",
    "        latitude = row['Latitude'] # be aware of column names in your SQL table\n",
    "        longitude = row['Longitude'] # be aware of column names in your SQL table\n",
    "        \n",
    "        \n",
    "        \n",
    "        url = f\"https://aerodatabox.p.rapidapi.com/airports/search/location\"\n",
    "\n",
    "        querystring = {\"lat\": latitude,\n",
    "                       \"lon\":longitude,\n",
    "                       \"radiusKm\":\"50\",\n",
    "                       \"limit\":\"10\",\n",
    "                       \"withFlightInfoOnly\":\"true\"}\n",
    "\n",
    "        headers = {\n",
    "\t        \"X-RapidAPI-Host\": \"aerodatabox.p.rapidapi.com\",\n",
    "            \"X-RapidAPI-Key\": api_key #\"YOUR_API_KEY_HERE\"\n",
    "        }\n",
    "\n",
    "        response = requests.get(url, headers=headers, params=querystring)\n",
    "        if response.status_code == 200:\n",
    "            airport_json = response.json()\n",
    "        else:\n",
    "            return response.reason\n",
    "        \n",
    "        # to append the data\n",
    "        for data in airport_json['items']:\n",
    "            icao_codes.append(data['icao'])\n",
    "            city_id.append(row['City_id'])\n",
    "            airport_name.append(data['name'])\n",
    "            \n",
    "        \n",
    "\n",
    "    return pd.DataFrame({\"city_id\": city_id, \"icao_codes\": icao_codes, \"airport_name\" : airport_name })\n"
   ]
  },
  {
   "cell_type": "code",
   "execution_count": 15,
   "id": "006d7207",
   "metadata": {},
   "outputs": [
    {
     "data": {
      "text/html": [
       "<div>\n",
       "<style scoped>\n",
       "    .dataframe tbody tr th:only-of-type {\n",
       "        vertical-align: middle;\n",
       "    }\n",
       "\n",
       "    .dataframe tbody tr th {\n",
       "        vertical-align: top;\n",
       "    }\n",
       "\n",
       "    .dataframe thead th {\n",
       "        text-align: right;\n",
       "    }\n",
       "</style>\n",
       "<table border=\"1\" class=\"dataframe\">\n",
       "  <thead>\n",
       "    <tr style=\"text-align: right;\">\n",
       "      <th></th>\n",
       "      <th>city_id</th>\n",
       "      <th>icao_codes</th>\n",
       "      <th>airport_name</th>\n",
       "    </tr>\n",
       "  </thead>\n",
       "  <tbody>\n",
       "    <tr>\n",
       "      <th>0</th>\n",
       "      <td>1</td>\n",
       "      <td>EDDT</td>\n",
       "      <td>Berlin -Tegel</td>\n",
       "    </tr>\n",
       "    <tr>\n",
       "      <th>1</th>\n",
       "      <td>1</td>\n",
       "      <td>EDDB</td>\n",
       "      <td>Berlin Brandenburg</td>\n",
       "    </tr>\n",
       "    <tr>\n",
       "      <th>2</th>\n",
       "      <td>2</td>\n",
       "      <td>EDDH</td>\n",
       "      <td>Hamburg</td>\n",
       "    </tr>\n",
       "    <tr>\n",
       "      <th>3</th>\n",
       "      <td>3</td>\n",
       "      <td>EDDM</td>\n",
       "      <td>Munich</td>\n",
       "    </tr>\n",
       "  </tbody>\n",
       "</table>\n",
       "</div>"
      ],
      "text/plain": [
       "   city_id icao_codes        airport_name\n",
       "0        1       EDDT       Berlin -Tegel\n",
       "1        1       EDDB  Berlin Brandenburg\n",
       "2        2       EDDH             Hamburg\n",
       "3        3       EDDM              Munich"
      ]
     },
     "execution_count": 15,
     "metadata": {},
     "output_type": "execute_result"
    }
   ],
   "source": [
    "cities_airport = icao_airport_codes(cities_df)\n",
    "cities_airport"
   ]
  },
  {
   "cell_type": "markdown",
   "id": "4a5248c5",
   "metadata": {},
   "source": [
    "send data to sql, ensure column name are correct"
   ]
  },
  {
   "cell_type": "code",
   "execution_count": null,
   "id": "a9b5fc17",
   "metadata": {},
   "outputs": [],
   "source": [
    "#cities_airport.to_sql('cities_airport',\n",
    "                 if_exists='append',\n",
    "                 index=False,\n",
    "                 con=connection_string)"
   ]
  },
  {
   "cell_type": "code",
   "execution_count": null,
   "id": "384b1858",
   "metadata": {},
   "outputs": [],
   "source": []
  },
  {
   "cell_type": "code",
   "execution_count": 16,
   "id": "08187170",
   "metadata": {},
   "outputs": [
    {
     "data": {
      "text/html": [
       "<div>\n",
       "<style scoped>\n",
       "    .dataframe tbody tr th:only-of-type {\n",
       "        vertical-align: middle;\n",
       "    }\n",
       "\n",
       "    .dataframe tbody tr th {\n",
       "        vertical-align: top;\n",
       "    }\n",
       "\n",
       "    .dataframe thead th {\n",
       "        text-align: right;\n",
       "    }\n",
       "</style>\n",
       "<table border=\"1\" class=\"dataframe\">\n",
       "  <thead>\n",
       "    <tr style=\"text-align: right;\">\n",
       "      <th></th>\n",
       "      <th>icao_codes</th>\n",
       "      <th>airport_name</th>\n",
       "      <th>city_id</th>\n",
       "    </tr>\n",
       "  </thead>\n",
       "  <tbody>\n",
       "    <tr>\n",
       "      <th>0</th>\n",
       "      <td>EDDB</td>\n",
       "      <td>Berlin Brandenburg</td>\n",
       "      <td>1</td>\n",
       "    </tr>\n",
       "    <tr>\n",
       "      <th>1</th>\n",
       "      <td>EDDH</td>\n",
       "      <td>Hamburg</td>\n",
       "      <td>2</td>\n",
       "    </tr>\n",
       "    <tr>\n",
       "      <th>2</th>\n",
       "      <td>EDDM</td>\n",
       "      <td>Munich</td>\n",
       "      <td>3</td>\n",
       "    </tr>\n",
       "    <tr>\n",
       "      <th>3</th>\n",
       "      <td>EDDT</td>\n",
       "      <td>Berlin -Tegel</td>\n",
       "      <td>1</td>\n",
       "    </tr>\n",
       "  </tbody>\n",
       "</table>\n",
       "</div>"
      ],
      "text/plain": [
       "  icao_codes        airport_name  city_id\n",
       "0       EDDB  Berlin Brandenburg        1\n",
       "1       EDDH             Hamburg        2\n",
       "2       EDDM              Munich        3\n",
       "3       EDDT       Berlin -Tegel        1"
      ]
     },
     "execution_count": 16,
     "metadata": {},
     "output_type": "execute_result"
    }
   ],
   "source": [
    "airport_df= pd.read_sql(\"cities_airport\", con=connection_string)\n",
    "airport_df"
   ]
  }
 ],
 "metadata": {
  "kernelspec": {
   "display_name": "base",
   "language": "python",
   "name": "python3"
  },
  "language_info": {
   "codemirror_mode": {
    "name": "ipython",
    "version": 3
   },
   "file_extension": ".py",
   "mimetype": "text/x-python",
   "name": "python",
   "nbconvert_exporter": "python",
   "pygments_lexer": "ipython3",
   "version": "3.12.7"
  }
 },
 "nbformat": 4,
 "nbformat_minor": 5
}
